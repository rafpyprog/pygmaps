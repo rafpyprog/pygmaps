{
 "cells": [
  {
   "cell_type": "code",
   "execution_count": 1,
   "metadata": {},
   "outputs": [
    {
     "data": {
      "text/html": [
       "\n",
       "<style>\n",
       "    .container {\n",
       "        box-shadow: none !important;\n",
       "    }\n",
       "\n",
       "    .output_html {\n",
       "        shadow: none !important;\n",
       "        max-width: 100% !important;\n",
       "        padding: 0 !important;\n",
       "    }\n",
       "\n",
       "    .title1 {\n",
       "        color: #e74a49 !important;\n",
       "    }\n",
       "</style>\n",
       "\n",
       "<script async>\n",
       "code_show=true;\n",
       "function code_toggle() {\n",
       "  if (code_show) {\n",
       "    $('div.input').each(function(id) {\n",
       "      el = $(this).find('.cm-variable:first');\n",
       "      if (id == 0 || el.text() == 'hide_me') {\n",
       "        $(this).hide();\n",
       "      }\n",
       "    });\n",
       "    $('div.output_prompt').css('opacity', 0);\n",
       "  } else {\n",
       "    $('div.input').each(function(id) {\n",
       "      $(this).show();\n",
       "    });\n",
       "    $('div.output_prompt').css('opacity', 1);\n",
       "  }\n",
       "  code_show = !code_show\n",
       "}\n",
       "$( document ).ready(code_toggle);\n",
       "</script>\n",
       "<form action=\"javascript:code_toggle()\"><input style=\"opacity:0\" type=\"submit\" value=\"Click here to toggle on/off the raw code.\"></form>"
      ],
      "text/plain": [
       "<IPython.core.display.HTML object>"
      ]
     },
     "execution_count": 1,
     "metadata": {},
     "output_type": "execute_result"
    }
   ],
   "source": [
    "from IPython.display import HTML\n",
    "\n",
    "hide_me = ''\n",
    "\n",
    "HTML('''\n",
    "<style>\n",
    "    .container {\n",
    "        box-shadow: none !important;\n",
    "    }\n",
    "\n",
    "    .output_html {\n",
    "        shadow: none !important;\n",
    "        max-width: 100% !important;\n",
    "        padding: 0 !important;\n",
    "    }\n",
    "\n",
    "    .title1 {\n",
    "        color: #e74a49 !important;\n",
    "    }\n",
    "</style>\n",
    "\n",
    "<script async>\n",
    "code_show=true;\n",
    "function code_toggle() {\n",
    "  if (code_show) {\n",
    "    $('div.input').each(function(id) {\n",
    "      el = $(this).find('.cm-variable:first');\n",
    "      if (id == 0 || el.text() == 'hide_me') {\n",
    "        $(this).hide();\n",
    "      }\n",
    "    });\n",
    "    $('div.output_prompt').css('opacity', 0);\n",
    "  } else {\n",
    "    $('div.input').each(function(id) {\n",
    "      $(this).show();\n",
    "    });\n",
    "    $('div.output_prompt').css('opacity', 1);\n",
    "  }\n",
    "  code_show = !code_show\n",
    "}\n",
    "$( document ).ready(code_toggle);\n",
    "</script>\n",
    "<form action=\"javascript:code_toggle()\"><input style=\"opacity:0\" type=\"submit\" value=\"Click here to toggle on/off the raw code.\"></form>''')\n"
   ]
  },
  {
   "cell_type": "markdown",
   "metadata": {
    "hideCode": false,
    "hidePrompt": false
   },
   "source": [
    "<div>\n",
    "  <a href=\"https://github.com/rafpyprog/pymaps/\" style=\"text-decoration: none\">\n",
    "  <img src=\"https://raw.githubusercontent.com/rafpyprog/pymaps/master/images/pymaps-logo-36x36.png\" style=\"margin:auto !important;text-align:center;\"/>\n",
    "  <strong><p style=\"margin:auto !important;text-align:center !important;padding:10px 10px 0px 10px !important;font-size:36px !important;color:#000000 !important;\">PyMaps</p></strong></a>\n",
    "  <p style=\"font-size:24px;text-align:center;color:#e74a49;padding:0 !important;margin:0.4em !important;\">Styles</p> </div>\n",
    "\n",
    "<div style=\"text-align:center;width:100%\">\n",
    "  <div style=\"display: inline-block;\">\n",
    "    <div style=\"float:left;margin:0.1em;\">\n",
    "      <a href=\"https://pypi.python.org/pypi/pymaps\"><img src=\"https://img.shields.io/pypi/v/pymaps.svg\"></a>\n",
    "    </div>\n",
    "    <div style=\"float:left;margin:0.1em;\">\n",
    "      <a href=\"https://pypi.python.org/pypi/pymaps\"><img src=\"https://img.shields.io/pypi/pyversions/pymaps.svg\">\n",
    "      </a>\n",
    "    </div>\n",
    "    <div style=\"float:left;margin:0.1em;\">\n",
    "        <a href=\"\"><img src=\"https://img.shields.io/pypi/l/pymaps.svg\"></a>\n",
    "    </div>\n",
    "    <div style=\"float:left;margin:0.1em;\">\n",
    "      <a href=\"https://travis-ci.org/rafpyprog/pymaps\">\n",
    "          <img src=\"https://img.shields.io/travis/rafpyprog/pymaps.svg\">\n",
    "      </a>\n",
    "    </div>\n",
    "  </div>\n",
    "</div>\n"
   ]
  },
  {
   "cell_type": "markdown",
   "metadata": {
    "hideCode": false,
    "hidePrompt": false
   },
   "source": [
    "With styles is possbible to customize the presentation of the Google base maps, changing the visual display of such elements as roads, parks, and built-up areas. PyMaps has ten built-in styles. You can find more styles at [Snazzymaps](https://snazzymaps.com/) or [make your own style](https://developers.google.com/maps/documentation/javascript/styling)."
   ]
  },
  {
   "cell_type": "markdown",
   "metadata": {
    "hideCode": false,
    "hidePrompt": false
   },
   "source": [
    "<h1 class=\"title1\">Table of Contents</h1>\n",
    "* [Built-In Styles](#builtin)\n",
    "  * [Aubergine](#builtin1)\n",
    "  * [Dark](#builtin2) \n",
    "  * [Grayscale](#builtin3)\n",
    "  * [Night](#builtin4)\n",
    "  * [Old](#builtin5)\n",
    "  * [Red Berry](#builtin6)\n",
    "  * [Retro](#builtin7)\n",
    "  * [Silver](#builtin8)\n",
    "  * [Water](#builtin9)\n",
    "  * [Wine](#builtin10)\n",
    "  \n",
    "\n",
    "\n",
    "* [Custom Styles Examples](#custom_styles)\n",
    "    * [Customizing the color of the roads](#custom_1)\n",
    "    * [Removing all text labels](#custom_2)\n",
    "    "
   ]
  },
  {
   "cell_type": "code",
   "execution_count": 2,
   "metadata": {
    "hideCode": false,
    "hidePrompt": false
   },
   "outputs": [],
   "source": [
    "import os\n",
    "\n",
    "from pymaps.pymaps import Map"
   ]
  },
  {
   "cell_type": "code",
   "execution_count": 3,
   "metadata": {
    "hideCode": false,
    "hidePrompt": false
   },
   "outputs": [],
   "source": [
    "API_KEY = os.environ['MAPS_API_KEY']"
   ]
  },
  {
   "cell_type": "code",
   "execution_count": 4,
   "metadata": {
    "hideCode": false,
    "hidePrompt": false
   },
   "outputs": [],
   "source": [
    "map_settings = {'api_key': API_KEY,\n",
    "                'zoom': 12,\n",
    "                'disable_default_ui': True,\n",
    "                'show_pegman': False,\n",
    "                'show_zoom_control': True}"
   ]
  },
  {
   "cell_type": "markdown",
   "metadata": {
    "hideCode": false,
    "hidePrompt": false
   },
   "source": [
    "<a id=\"builtin\"></a>\n",
    "<h1 class=\"title1\">Buitin Styles</h1>"
   ]
  },
  {
   "cell_type": "markdown",
   "metadata": {
    "hideCode": false,
    "hidePrompt": false
   },
   "source": [
    "## Aubergine<a id=\"builtin1\"></a>"
   ]
  },
  {
   "cell_type": "code",
   "execution_count": 5,
   "metadata": {
    "hideCode": false,
    "hidePrompt": false
   },
   "outputs": [
    {
     "data": {
      "text/html": [
       "<iframe src=\"data:text/html;charset=utf-8;base64,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\" style=\"height:500px;width:100%;border:none !important\"></iframe>"
      ],
      "text/plain": [
       "<pymaps.pymaps.Map at 0x197eef12080>"
      ]
     },
     "execution_count": 5,
     "metadata": {},
     "output_type": "execute_result"
    }
   ],
   "source": [
    "new_york = (40.7128, -74.0060)\n",
    "Map(center=new_york, style='aubergine', **map_settings)"
   ]
  },
  {
   "cell_type": "markdown",
   "metadata": {
    "hideCode": false,
    "hidePrompt": false
   },
   "source": [
    "<a id=\"builtin2\"></a>\n",
    "## Dark"
   ]
  },
  {
   "cell_type": "code",
   "execution_count": 6,
   "metadata": {
    "hideCode": false,
    "hidePrompt": false
   },
   "outputs": [
    {
     "data": {
      "text/html": [
       "<iframe src=\"data:text/html;charset=utf-8;base64,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\" style=\"height:500px;width:100%;border:none !important\"></iframe>"
      ],
      "text/plain": [
       "<pymaps.pymaps.Map at 0x197eef12438>"
      ]
     },
     "execution_count": 6,
     "metadata": {},
     "output_type": "execute_result"
    }
   ],
   "source": [
    "madrid = (40.4168, -3.7038)\n",
    "Map(center=madrid, style='dark', **map_settings)"
   ]
  },
  {
   "cell_type": "markdown",
   "metadata": {
    "hideCode": false,
    "hidePrompt": false
   },
   "source": [
    "<a id=\"builtin3\"></a>\n",
    "## Grayscale"
   ]
  },
  {
   "cell_type": "code",
   "execution_count": 7,
   "metadata": {
    "hideCode": false,
    "hidePrompt": false
   },
   "outputs": [
    {
     "data": {
      "text/html": [
       "<iframe src=\"data:text/html;charset=utf-8;base64,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\" style=\"height:500px;width:100%;border:none !important\"></iframe>"
      ],
      "text/plain": [
       "<pymaps.pymaps.Map at 0x197eef33518>"
      ]
     },
     "execution_count": 7,
     "metadata": {},
     "output_type": "execute_result"
    }
   ],
   "source": [
    "paris = (48.8566, 2.3522)\n",
    "Map(center=paris, style='grayscale', **map_settings)"
   ]
  },
  {
   "cell_type": "markdown",
   "metadata": {
    "hideCode": false,
    "hidePrompt": false
   },
   "source": [
    "<a id=\"builtin4\"></a>\n",
    "## Night"
   ]
  },
  {
   "cell_type": "code",
   "execution_count": 8,
   "metadata": {
    "hideCode": false,
    "hidePrompt": false
   },
   "outputs": [
    {
     "data": {
      "text/html": [
       "<iframe src=\"data:text/html;charset=utf-8;base64,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\" style=\"height:500px;width:100%;border:none !important\"></iframe>"
      ],
      "text/plain": [
       "<pymaps.pymaps.Map at 0x197eef12128>"
      ]
     },
     "execution_count": 8,
     "metadata": {},
     "output_type": "execute_result"
    }
   ],
   "source": [
    "ottawa = (45.4215, -75.6972)\n",
    "Map(center=ottawa, style='night', **map_settings)"
   ]
  },
  {
   "cell_type": "markdown",
   "metadata": {
    "hideCode": false,
    "hidePrompt": false
   },
   "source": [
    "<a id=\"builtin5\"></a>\n",
    "## Old"
   ]
  },
  {
   "cell_type": "code",
   "execution_count": 9,
   "metadata": {
    "hideCode": false,
    "hidePrompt": false
   },
   "outputs": [
    {
     "data": {
      "text/html": [
       "<iframe src=\"data:text/html;charset=utf-8;base64,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\" style=\"height:500px;width:100%;border:none !important\"></iframe>"
      ],
      "text/plain": [
       "<pymaps.pymaps.Map at 0x197eef33dd8>"
      ]
     },
     "execution_count": 9,
     "metadata": {},
     "output_type": "execute_result"
    }
   ],
   "source": [
    "jerusalem = (31.7683, 35.2137)\n",
    "Map(center=jerusalem, style='old', **map_settings)"
   ]
  },
  {
   "cell_type": "markdown",
   "metadata": {
    "hideCode": false,
    "hidePrompt": false
   },
   "source": [
    "<a id=\"builtin6\"></a>\n",
    "## Red Berry"
   ]
  },
  {
   "cell_type": "code",
   "execution_count": 10,
   "metadata": {
    "hideCode": false,
    "hidePrompt": false
   },
   "outputs": [
    {
     "data": {
      "text/html": [
       "<iframe src=\"data:text/html;charset=utf-8;base64,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\" style=\"height:500px;width:100%;border:none !important\"></iframe>"
      ],
      "text/plain": [
       "<pymaps.pymaps.Map at 0x197eef12dd8>"
      ]
     },
     "execution_count": 10,
     "metadata": {},
     "output_type": "execute_result"
    }
   ],
   "source": [
    "brasilia = (-15.79, -47.88)\n",
    "Map(center=brasilia, style='redberry', **map_settings)"
   ]
  },
  {
   "cell_type": "markdown",
   "metadata": {
    "hideCode": false,
    "hidePrompt": false
   },
   "source": [
    "<a id=\"builtin7\"></a>\n",
    "## Retro"
   ]
  },
  {
   "cell_type": "code",
   "execution_count": 11,
   "metadata": {
    "hideCode": false,
    "hidePrompt": false
   },
   "outputs": [
    {
     "data": {
      "text/html": [
       "<iframe src=\"data:text/html;charset=utf-8;base64,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\" style=\"height:500px;width:100%;border:none !important\"></iframe>"
      ],
      "text/plain": [
       "<pymaps.pymaps.Map at 0x197eef33198>"
      ]
     },
     "execution_count": 11,
     "metadata": {},
     "output_type": "execute_result"
    }
   ],
   "source": [
    "rome = (41.9028, 12.4964)\n",
    "Map(center=rome, style='retro', **map_settings)"
   ]
  },
  {
   "cell_type": "markdown",
   "metadata": {
    "hideCode": false,
    "hidePrompt": false
   },
   "source": [
    "<a id=\"builtin8\"></a>\n",
    "## Silver"
   ]
  },
  {
   "cell_type": "code",
   "execution_count": 12,
   "metadata": {
    "hideCode": false,
    "hidePrompt": false
   },
   "outputs": [
    {
     "data": {
      "text/html": [
       "<iframe src=\"data:text/html;charset=utf-8;base64,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\" style=\"height:500px;width:100%;border:none !important\"></iframe>"
      ],
      "text/plain": [
       "<pymaps.pymaps.Map at 0x197eef338d0>"
      ]
     },
     "execution_count": 12,
     "metadata": {},
     "output_type": "execute_result"
    }
   ],
   "source": [
    "cape_town = (-33.9249, 18.4241)\n",
    "Map(center=cape_town, style='silver', **map_settings)"
   ]
  },
  {
   "cell_type": "markdown",
   "metadata": {
    "hideCode": false,
    "hidePrompt": false
   },
   "source": [
    "<a id=\"builtin9\"></a>\n",
    "## Water"
   ]
  },
  {
   "cell_type": "code",
   "execution_count": 13,
   "metadata": {
    "hideCode": false,
    "hidePrompt": false
   },
   "outputs": [
    {
     "data": {
      "text/html": [
       "<iframe src=\"data:text/html;charset=utf-8;base64,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\" style=\"height:500px;width:100%;border:none !important\"></iframe>"
      ],
      "text/plain": [
       "<pymaps.pymaps.Map at 0x197eef12278>"
      ]
     },
     "execution_count": 13,
     "metadata": {},
     "output_type": "execute_result"
    }
   ],
   "source": [
    "sidney = (-33.8688, 151.2093)\n",
    "Map(center=sidney, style='water', **map_settings)"
   ]
  },
  {
   "cell_type": "markdown",
   "metadata": {
    "hideCode": false,
    "hidePrompt": false
   },
   "source": [
    "<a id=\"builtin10\"></a>\n",
    "## Wine"
   ]
  },
  {
   "cell_type": "code",
   "execution_count": 14,
   "metadata": {
    "hideCode": false,
    "hidePrompt": false,
    "scrolled": false
   },
   "outputs": [
    {
     "data": {
      "text/html": [
       "<iframe src=\"data:text/html;charset=utf-8;base64,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\" style=\"height:500px;width:100%;border:none !important\"></iframe>"
      ],
      "text/plain": [
       "<pymaps.pymaps.Map at 0x197eef33be0>"
      ]
     },
     "execution_count": 14,
     "metadata": {},
     "output_type": "execute_result"
    }
   ],
   "source": [
    "beijing = (39.9042, 116.4074)\n",
    "Map(center=beijing, style='wine', **map_settings)"
   ]
  },
  {
   "cell_type": "markdown",
   "metadata": {
    "hideCode": false,
    "hidePrompt": false
   },
   "source": [
    "<a id=\"custom_styles\"></a>\n",
    "<h1 class=\"title1\">Custom Styles Examples</h1>"
   ]
  },
  {
   "cell_type": "markdown",
   "metadata": {
    "hideCode": false,
    "hidePrompt": false
   },
   "source": [
    "<a id=\"custom_1\"></a>\n",
    "## Customizing the color of the roads"
   ]
  },
  {
   "cell_type": "code",
   "execution_count": 15,
   "metadata": {
    "hideCode": false,
    "hidePrompt": false,
    "scrolled": false
   },
   "outputs": [
    {
     "data": {
      "text/html": [
       "<iframe src=\"data:text/html;charset=utf-8;base64,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\" style=\"height:500px;width:100%;border:none !important\"></iframe>"
      ],
      "text/plain": [
       "<pymaps.pymaps.Map at 0x197eef12cc0>"
      ]
     },
     "execution_count": 15,
     "metadata": {},
     "output_type": "execute_result"
    }
   ],
   "source": [
    "GOLDEN = '#FFD700'\n",
    "\n",
    "color_road = '''[\n",
    "  {{\n",
    "    \"featureType\": \"road\",\n",
    "    \"elementType\": \"geometry\",\n",
    "    \"stylers\": [\n",
    "      {{\n",
    "        \"color\": \"{}\"\n",
    "      }}\n",
    "    ]\n",
    "  }}\n",
    "]'''\n",
    "\n",
    "Map(center=ottawa, style=color_road.format(GOLDEN), **map_settings)"
   ]
  },
  {
   "cell_type": "markdown",
   "metadata": {
    "hideCode": false,
    "hidePrompt": false
   },
   "source": [
    "<a id=\"custom_2\"></a>\n",
    "## Removing all text labels"
   ]
  },
  {
   "cell_type": "code",
   "execution_count": 16,
   "metadata": {},
   "outputs": [
    {
     "data": {
      "text/html": [
       "<iframe src=\"data:text/html;charset=utf-8;base64,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\" style=\"height:500px;width:100%;border:none !important\"></iframe>"
      ],
      "text/plain": [
       "<pymaps.pymaps.Map at 0x197eef33390>"
      ]
     },
     "execution_count": 16,
     "metadata": {},
     "output_type": "execute_result"
    }
   ],
   "source": [
    "no_labels = '''[\n",
    "  {\n",
    "    \"featureType\": \"all\",\n",
    "    \"elementType\": \"labels\",\n",
    "    \"stylers\": [\n",
    "      { \"visibility\": \"off\" }      \n",
    "    ]\n",
    "  }\n",
    "]'''\n",
    "\n",
    "Map(center=ottawa, style=no_labels, **map_settings)"
   ]
  }
 ],
 "metadata": {
  "celltoolbar": "Raw Cell Format",
  "hide_code_all_hidden": false,
  "kernelspec": {
   "display_name": "Python 3",
   "language": "python",
   "name": "python3"
  },
  "language_info": {
   "codemirror_mode": {
    "name": "ipython",
    "version": 3
   },
   "file_extension": ".py",
   "mimetype": "text/x-python",
   "name": "python",
   "nbconvert_exporter": "python",
   "pygments_lexer": "ipython3",
   "version": "3.6.2"
  }
 },
 "nbformat": 4,
 "nbformat_minor": 2
}
