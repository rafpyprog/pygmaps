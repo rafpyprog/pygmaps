{
 "cells": [
  {
   "cell_type": "code",
   "execution_count": null,
   "metadata": {},
   "outputs": [],
   "source": [
    "{%custom-css%}"
   ]
  },
  {
   "cell_type": "markdown",
   "metadata": {
    "hideCode": false,
    "hidePrompt": false
   },
   "source": [
    "{%header%}"
   ]
  },
  {
   "cell_type": "markdown",
   "metadata": {},
   "source": [
    "A Marker identifies a location on a map. By default, a marker uses a standard image. \n",
    "Markers can display custom images using the icon parameter."
   ]
  },
  {
   "cell_type": "markdown",
   "metadata": {},
   "source": [
    "<h1 class=\"title1\">Table of Contents</h1>\n",
    "* [Create a map with a marker](#marker1)  "
   ]
  },
  {
   "cell_type": "code",
   "execution_count": 1,
   "metadata": {
    "hideCode": false,
    "hidePrompt": false
   },
   "outputs": [],
   "source": [
    "import os\n",
    "\n",
    "import pandas as pd\n",
    "from pymaps import Map\n",
    "from pymaps.marker import Marker, MarkerCluster"
   ]
  },
  {
   "cell_type": "code",
   "execution_count": 2,
   "metadata": {
    "hideCode": false,
    "hidePrompt": false
   },
   "outputs": [],
   "source": [
    "API_KEY = os.environ['MAPS_API_KEY']"
   ]
  },
  {
   "cell_type": "markdown",
   "metadata": {},
   "source": [
    "<a id=\"marker1\"></a>\n",
    "<h1 class=\"title1\">Create a Map with a Marker</h1>"
   ]
  },
  {
   "cell_type": "code",
   "execution_count": 11,
   "metadata": {
    "scrolled": false
   },
   "outputs": [
    {
     "data": {
      "text/html": [
       "<iframe src=\"data:text/html;charset=utf-8;base64,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\" style=\"height:500px;width:100%;border:none !important\"></iframe>"
      ],
      "text/plain": [
       "<pymaps.pymaps.Map at 0x7fdf8c1daa20>"
      ]
     },
     "execution_count": 11,
     "metadata": {},
     "output_type": "execute_result"
    }
   ],
   "source": [
    "fernando_de_noronha = (-3.8576, -32.4297)\n",
    "m = Map(api_key=API_KEY, zoom=13)\n",
    "title = 'Fernando de Noronha'  # hover the mouse over the marker to show the title\n",
    "Marker(fernando_de_noronha, title=title).add_to(m)\n",
    "m"
   ]
  },
  {
   "cell_type": "code",
   "execution_count": null,
   "metadata": {
    "hideCode": false,
    "hidePrompt": false
   },
   "outputs": [],
   "source": [
    "cities = {\"rome\": (41.9028, 12.4964),           \n",
    "          'paris' : (48.8566, 2.3522),\n",
    "          'madrid' : (40.4168, -3.7038),\n",
    "          'berlin' : (52.5200, 13.4050),          \n",
    "          'amsterdan' : (52.3702, 4.8952),\n",
    "          'london' : (51.509865,  -0.118092)}"
   ]
  },
  {
   "cell_type": "code",
   "execution_count": null,
   "metadata": {
    "hideCode": false,
    "hidePrompt": false
   },
   "outputs": [],
   "source": [
    "map = Map([-18.99, -44.04], api_key=API_KEY, zoom=6, show_pegman=False, disable_default_ui=True)\n",
    "\n",
    "for n, values  in enumerate(cities.items(), 1):    \n",
    "    city_name, latlgn = values\n",
    "    title = city_name.title() \n",
    "    Marker(latlgn, title=title, label=n).add_to(map)\n",
    "map.fit_bounds(cities.values())\n",
    "map"
   ]
  },
  {
   "cell_type": "code",
   "execution_count": null,
   "metadata": {},
   "outputs": [],
   "source": [
    "for marker in map.children['marker']:\n",
    "    if marker.title == 'London':\n",
    "        marker.set_animation('BOUNCE')\n",
    "        marker.label = ''\n",
    "map"
   ]
  },
  {
   "cell_type": "code",
   "execution_count": null,
   "metadata": {
    "hideCode": false,
    "hidePrompt": false,
    "scrolled": false
   },
   "outputs": [],
   "source": [
    "gb_icon = 'https://www.workaway.info/gfx/flags/flag_great_britain.png'\n",
    "         \n",
    "for marker in map.children['marker']:\n",
    "    if marker.title == 'London':\n",
    "        marker.icon = gb_icon\n",
    "        marker.set_animation('BOUNCE')\n",
    "        marker.label = ''\n",
    "    else:\n",
    "        marker.set_animation('DROP')\n",
    "    \n",
    "\n",
    "map.set_style('water')\n",
    "map"
   ]
  },
  {
   "cell_type": "code",
   "execution_count": null,
   "metadata": {
    "scrolled": false
   },
   "outputs": [],
   "source": [
    "map.children['marker'][-1].remove_animation()\n",
    "map.title = 'Eurotrip 2018'\n",
    "map"
   ]
  },
  {
   "cell_type": "markdown",
   "metadata": {},
   "source": [
    "# MarkerCluster"
   ]
  },
  {
   "cell_type": "code",
   "execution_count": null,
   "metadata": {},
   "outputs": [],
   "source": [
    "cities['buenos_aires'] = (-34.6037, -58.3816)\n",
    "cities['brasilia'] = (-15.7942, -47.8822)\n",
    "cities['santiago'] = (-33.4489, -70.6693)"
   ]
  },
  {
   "cell_type": "code",
   "execution_count": null,
   "metadata": {},
   "outputs": [],
   "source": [
    "map = Map(api_key=API_KEY, show_pegman=False, disable_default_ui=True)\n",
    "cluster = MarkerCluster()\n",
    "for n, values  in enumerate(cities.items(), 1):    \n",
    "    city_name, latlgn = values\n",
    "    title = city_name.title() \n",
    "    Marker(latlgn, title=title, label=n).add_to(cluster)\n",
    "cluster.add_to(map)\n",
    "map"
   ]
  }
 ],
 "metadata": {
  "hide_code_all_hidden": false,
  "kernelspec": {
   "display_name": "Python 3",
   "language": "python",
   "name": "python3"
  },
  "language_info": {
   "codemirror_mode": {
    "name": "ipython",
    "version": 3
   },
   "file_extension": ".py",
   "mimetype": "text/x-python",
   "name": "python",
   "nbconvert_exporter": "python",
   "pygments_lexer": "ipython3",
   "version": "3.6.3"
  }
 },
 "nbformat": 4,
 "nbformat_minor": 2
}
