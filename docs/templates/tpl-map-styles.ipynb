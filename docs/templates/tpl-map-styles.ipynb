{
 "cells": [
  {
   "cell_type": "code",
   "execution_count": null,
   "metadata": {},
   "outputs": [],
   "source": [
    "{%custom-css%}"
   ]
  },
  {
   "cell_type": "markdown",
   "metadata": {
    "hideCode": false,
    "hidePrompt": false
   },
   "source": [
    "{%header%}"
   ]
  },
  {
   "cell_type": "markdown",
   "metadata": {
    "hideCode": false,
    "hidePrompt": false
   },
   "source": [
    "With styles is possbible to customize the presentation of the Google base maps, changing the visual display of such elements as roads, parks, and built-up areas. PyMaps has ten built-in styles. You can find more styles at [Snazzymaps](https://snazzymaps.com/) or [make your own style](https://developers.google.com/maps/documentation/javascript/styling)."
   ]
  },
  {
   "cell_type": "markdown",
   "metadata": {
    "hideCode": false,
    "hidePrompt": false
   },
   "source": [
    "<h1 class=\"title1\">Table of Contents</h1>\n",
    "* [Built-In Styles](#builtin)\n",
    "  * [Aubergine](#builtin1)\n",
    "  * [Dark](#builtin2) \n",
    "  * [Grayscale](#builtin3)\n",
    "  * [Night](#builtin4)\n",
    "  * [Old](#builtin5)\n",
    "  * [Red Berry](#builtin6)\n",
    "  * [Retro](#builtin7)\n",
    "  * [Silver](#builtin8)\n",
    "  * [Water](#builtin9)\n",
    "  * [Wine](#builtin10)\n",
    "  \n",
    "\n",
    "\n",
    "* [Custom Styles Examples](#custom_styles)\n",
    "    * [Customizing the color of the roads](#custom_1)\n",
    "    * [Removing all text labels](#custom_2)\n",
    "    "
   ]
  },
  {
   "cell_type": "code",
   "execution_count": null,
   "metadata": {
    "hideCode": false,
    "hidePrompt": false
   },
   "outputs": [],
   "source": [
    "import os\n",
    "\n",
    "from pymaps.pymaps import Map"
   ]
  },
  {
   "cell_type": "code",
   "execution_count": null,
   "metadata": {
    "hideCode": false,
    "hidePrompt": false
   },
   "outputs": [],
   "source": [
    "API_KEY = os.environ['MAPS_API_KEY']"
   ]
  },
  {
   "cell_type": "code",
   "execution_count": null,
   "metadata": {
    "hideCode": false,
    "hidePrompt": false
   },
   "outputs": [],
   "source": [
    "map_settings = {'api_key': API_KEY,\n",
    "                'zoom': 12,\n",
    "                'disable_default_ui': True,\n",
    "                'show_pegman': False,\n",
    "                'show_zoom_control': True}"
   ]
  },
  {
   "cell_type": "markdown",
   "metadata": {
    "hideCode": false,
    "hidePrompt": false
   },
   "source": [
    "<a id=\"builtin\"></a>\n",
    "<h1 class=\"title1\">Buitin Styles</h1>"
   ]
  },
  {
   "cell_type": "markdown",
   "metadata": {
    "hideCode": false,
    "hidePrompt": false
   },
   "source": [
    "## Aubergine<a id=\"builtin1\"></a>"
   ]
  },
  {
   "cell_type": "code",
   "execution_count": null,
   "metadata": {
    "hideCode": false,
    "hidePrompt": false
   },
   "outputs": [],
   "source": [
    "new_york = (40.7128, -74.0060)\n",
    "Map(center=new_york, style='aubergine', **map_settings)"
   ]
  },
  {
   "cell_type": "markdown",
   "metadata": {
    "hideCode": false,
    "hidePrompt": false
   },
   "source": [
    "<a id=\"builtin2\"></a>\n",
    "## Dark"
   ]
  },
  {
   "cell_type": "code",
   "execution_count": null,
   "metadata": {
    "hideCode": false,
    "hidePrompt": false
   },
   "outputs": [],
   "source": [
    "madrid = (40.4168, -3.7038)\n",
    "Map(center=madrid, style='dark', **map_settings)"
   ]
  },
  {
   "cell_type": "markdown",
   "metadata": {
    "hideCode": false,
    "hidePrompt": false
   },
   "source": [
    "<a id=\"builtin3\"></a>\n",
    "## Grayscale"
   ]
  },
  {
   "cell_type": "code",
   "execution_count": null,
   "metadata": {
    "hideCode": false,
    "hidePrompt": false
   },
   "outputs": [],
   "source": [
    "paris = (48.8566, 2.3522)\n",
    "Map(center=paris, style='grayscale', **map_settings)"
   ]
  },
  {
   "cell_type": "markdown",
   "metadata": {
    "hideCode": false,
    "hidePrompt": false
   },
   "source": [
    "<a id=\"builtin4\"></a>\n",
    "## Night"
   ]
  },
  {
   "cell_type": "code",
   "execution_count": null,
   "metadata": {
    "hideCode": false,
    "hidePrompt": false
   },
   "outputs": [],
   "source": [
    "ottawa = (45.4215, -75.6972)\n",
    "Map(center=ottawa, style='night', **map_settings)"
   ]
  },
  {
   "cell_type": "markdown",
   "metadata": {
    "hideCode": false,
    "hidePrompt": false
   },
   "source": [
    "<a id=\"builtin5\"></a>\n",
    "## Old"
   ]
  },
  {
   "cell_type": "code",
   "execution_count": null,
   "metadata": {
    "hideCode": false,
    "hidePrompt": false
   },
   "outputs": [],
   "source": [
    "jerusalem = (31.7683, 35.2137)\n",
    "Map(center=jerusalem, style='old', **map_settings)"
   ]
  },
  {
   "cell_type": "markdown",
   "metadata": {
    "hideCode": false,
    "hidePrompt": false
   },
   "source": [
    "<a id=\"builtin6\"></a>\n",
    "## Red Berry"
   ]
  },
  {
   "cell_type": "code",
   "execution_count": null,
   "metadata": {
    "hideCode": false,
    "hidePrompt": false
   },
   "outputs": [],
   "source": [
    "brasilia = (-15.79, -47.88)\n",
    "Map(center=brasilia, style='redberry', **map_settings)"
   ]
  },
  {
   "cell_type": "markdown",
   "metadata": {
    "hideCode": false,
    "hidePrompt": false
   },
   "source": [
    "<a id=\"builtin7\"></a>\n",
    "## Retro"
   ]
  },
  {
   "cell_type": "code",
   "execution_count": null,
   "metadata": {
    "hideCode": false,
    "hidePrompt": false
   },
   "outputs": [],
   "source": [
    "rome = (41.9028, 12.4964)\n",
    "Map(center=rome, style='retro', **map_settings)"
   ]
  },
  {
   "cell_type": "markdown",
   "metadata": {
    "hideCode": false,
    "hidePrompt": false
   },
   "source": [
    "<a id=\"builtin8\"></a>\n",
    "## Silver"
   ]
  },
  {
   "cell_type": "code",
   "execution_count": null,
   "metadata": {
    "hideCode": false,
    "hidePrompt": false
   },
   "outputs": [],
   "source": [
    "cape_town = (-33.9249, 18.4241)\n",
    "Map(center=cape_town, style='silver', **map_settings)"
   ]
  },
  {
   "cell_type": "markdown",
   "metadata": {
    "hideCode": false,
    "hidePrompt": false
   },
   "source": [
    "<a id=\"builtin9\"></a>\n",
    "## Water"
   ]
  },
  {
   "cell_type": "code",
   "execution_count": null,
   "metadata": {
    "hideCode": false,
    "hidePrompt": false
   },
   "outputs": [],
   "source": [
    "sidney = (-33.8688, 151.2093)\n",
    "Map(center=sidney, style='water', **map_settings)"
   ]
  },
  {
   "cell_type": "markdown",
   "metadata": {
    "hideCode": false,
    "hidePrompt": false
   },
   "source": [
    "<a id=\"builtin10\"></a>\n",
    "## Wine"
   ]
  },
  {
   "cell_type": "code",
   "execution_count": null,
   "metadata": {
    "hideCode": false,
    "hidePrompt": false,
    "scrolled": false
   },
   "outputs": [],
   "source": [
    "beijing = (39.9042, 116.4074)\n",
    "Map(center=beijing, style='wine', **map_settings)"
   ]
  },
  {
   "cell_type": "markdown",
   "metadata": {
    "hideCode": false,
    "hidePrompt": false
   },
   "source": [
    "<a id=\"custom_styles\"></a>\n",
    "<h1 class=\"title1\">Custom Styles Examples</h1>"
   ]
  },
  {
   "cell_type": "markdown",
   "metadata": {
    "hideCode": false,
    "hidePrompt": false
   },
   "source": [
    "<a id=\"custom_1\"></a>\n",
    "## Customizing the color of the roads"
   ]
  },
  {
   "cell_type": "code",
   "execution_count": null,
   "metadata": {
    "hideCode": false,
    "hidePrompt": false,
    "scrolled": false
   },
   "outputs": [],
   "source": [
    "{% raw %}GOLDEN = '#FFD700'\n",
    "\n",
    "color_road = '''[\n",
    "  {{\n",
    "    \"featureType\": \"road\",\n",
    "    \"elementType\": \"geometry\",\n",
    "    \"stylers\": [\n",
    "      {{\n",
    "        \"color\": \"{}\"\n",
    "      }}\n",
    "    ]\n",
    "  }}\n",
    "]'''\n",
    "\n",
    "Map(center=ottawa, style=color_road.format(GOLDEN), **map_settings){% endraw %}"
   ]
  },
  {
   "cell_type": "markdown",
   "metadata": {
    "hideCode": false,
    "hidePrompt": false
   },
   "source": [
    "<a id=\"custom_2\"></a>\n",
    "## Removing all text labels"
   ]
  },
  {
   "cell_type": "code",
   "execution_count": null,
   "metadata": {},
   "outputs": [],
   "source": [
    "no_labels = '''[\n",
    "  {\n",
    "    \"featureType\": \"all\",\n",
    "    \"elementType\": \"labels\",\n",
    "    \"stylers\": [\n",
    "      { \"visibility\": \"off\" }      \n",
    "    ]\n",
    "  }\n",
    "]'''\n",
    "\n",
    "Map(center=ottawa, style=no_labels, **map_settings)"
   ]
  }
 ],
 "metadata": {
  "celltoolbar": "Raw Cell Format",
  "hide_code_all_hidden": false,
  "kernelspec": {
   "display_name": "Python 3",
   "language": "python",
   "name": "python3"
  },
  "language_info": {
   "codemirror_mode": {
    "name": "ipython",
    "version": 3
   },
   "file_extension": ".py",
   "mimetype": "text/x-python",
   "name": "python",
   "nbconvert_exporter": "python",
   "pygments_lexer": "ipython3",
   "version": "3.6.3"
  }
 },
 "nbformat": 4,
 "nbformat_minor": 2
}
